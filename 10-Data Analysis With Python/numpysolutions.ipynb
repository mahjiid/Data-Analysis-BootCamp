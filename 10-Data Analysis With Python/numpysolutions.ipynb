{
 "cells": [
  {
   "cell_type": "markdown",
   "id": "fc28fad2",
   "metadata": {},
   "source": [
    "# Module: NumPy Assignments\n",
    "## Lesson: NumPy\n",
    "### Assignment 1: Array Creation and Manipulation\n",
    "\n",
    "1. Create a NumPy array of shape (5, 5) filled with random integers between 1 and 20. Replace all the elements in the third column with 1."
   ]
  },
  {
   "cell_type": "code",
   "execution_count": 2,
   "id": "ef6b6df0-6b5c-4dcc-a66e-264954fd73df",
   "metadata": {},
   "outputs": [
    {
     "name": "stdout",
     "output_type": "stream",
     "text": [
      "[[10  7  6  4 17]\n",
      " [16  7 19 16 14]\n",
      " [16 10  6 17 18]\n",
      " [14 11  4  5 10]\n",
      " [ 5  7 15  1  2]]\n",
      "Modified array:\n",
      "[[10  7  1  4 17]\n",
      " [16  7  1 16 14]\n",
      " [16 10  1 17 18]\n",
      " [14 11  1  5 10]\n",
      " [ 5  7  1  1  2]]\n"
     ]
    }
   ],
   "source": [
    "import numpy as np\n",
    "array = np.random.randint(1, 20, size=(5,5))\n",
    "print(array)\n",
    "\n",
    "array[:,2] =1\n",
    "print(\"Modified array:\")\n",
    "print(array)"
   ]
  },
  {
   "cell_type": "code",
   "execution_count": 1,
   "id": "10a43b8c",
   "metadata": {},
   "outputs": [
    {
     "name": "stdout",
     "output_type": "stream",
     "text": [
      "Original array:\n",
      "[[11  4 19  3 16]\n",
      " [13 15 20  6  3]\n",
      " [20  1  7 18 19]\n",
      " [12  6 13  7 20]\n",
      " [ 1 14 12 17  6]]\n",
      "Modified array:\n",
      "[[11  4  1  3 16]\n",
      " [13 15  1  6  3]\n",
      " [20  1  1 18 19]\n",
      " [12  6  1  7 20]\n",
      " [ 1 14  1 17  6]]\n"
     ]
    }
   ],
   "source": [
    "import numpy as np\n",
    "\n",
    "# Create a NumPy array of shape (5, 5) filled with random integers\n",
    "array = np.random.randint(1, 21, size=(5, 5))\n",
    "print(\"Original array:\")\n",
    "print(array)\n",
    "\n",
    "# Replace all the elements in the third column with 1\n",
    "array[:, 2] = 1\n",
    "print(\"Modified array:\")\n",
    "print(array)"
   ]
  },
  {
   "cell_type": "markdown",
   "id": "6e94d586",
   "metadata": {},
   "source": [
    "2. Create a NumPy array of shape (4, 4) with values from 1 to 16. Replace the diagonal elements with 0."
   ]
  },
  {
   "cell_type": "code",
   "execution_count": 10,
   "id": "7d78cf0b-39ef-44d8-9d85-fb16d82d97b7",
   "metadata": {},
   "outputs": [
    {
     "name": "stdout",
     "output_type": "stream",
     "text": [
      "[[10 16  1  7 16]\n",
      " [18 11  1  3  9]\n",
      " [15 17  1  7  9]\n",
      " [ 9  9  1 19 13]\n",
      " [ 9  7  1  1 19]]\n",
      "[[ 0 16  1  7 16]\n",
      " [18  0  1  3  9]\n",
      " [15 17  0  7  9]\n",
      " [ 9  9  1  0 13]\n",
      " [ 9  7  1  1  0]]\n"
     ]
    }
   ],
   "source": [
    "arrap = np.arange(1, 17).reshape((4, 4))\n",
    "print(array)\n",
    "\n",
    "np.fill_diagonal(array, 0)\n",
    "print(array)"
   ]
  },
  {
   "cell_type": "code",
   "execution_count": 2,
   "id": "ea20f4a3",
   "metadata": {},
   "outputs": [
    {
     "name": "stdout",
     "output_type": "stream",
     "text": [
      "Original array:\n",
      "[[ 1  2  3  4]\n",
      " [ 5  6  7  8]\n",
      " [ 9 10 11 12]\n",
      " [13 14 15 16]]\n",
      "Modified array:\n",
      "[[ 0  2  3  4]\n",
      " [ 5  0  7  8]\n",
      " [ 9 10  0 12]\n",
      " [13 14 15  0]]\n"
     ]
    }
   ],
   "source": [
    "# Create a NumPy array of shape (4, 4) with values from 1 to 16\n",
    "array = np.arange(1, 17).reshape((4, 4))\n",
    "print(\"Original array:\")\n",
    "print(array)\n",
    "\n",
    "# Replace the diagonal elements with 0\n",
    "np.fill_diagonal(array, 0)\n",
    "print(\"Modified array:\")\n",
    "print(array)"
   ]
  },
  {
   "cell_type": "markdown",
   "id": "987f8f93",
   "metadata": {},
   "source": [
    "### Assignment 2: Array Indexing and Slicing\n",
    "\n",
    "1. Create a NumPy array of shape (6, 6) with values from 1 to 36. Extract the sub-array consisting of the 3rd to 5th rows and 2nd to 4th columns."
   ]
  },
  {
   "cell_type": "code",
   "execution_count": 3,
   "id": "d815552e",
   "metadata": {},
   "outputs": [
    {
     "name": "stdout",
     "output_type": "stream",
     "text": [
      "Original array:\n",
      "[[ 1  2  3  4  5  6]\n",
      " [ 7  8  9 10 11 12]\n",
      " [13 14 15 16 17 18]\n",
      " [19 20 21 22 23 24]\n",
      " [25 26 27 28 29 30]\n",
      " [31 32 33 34 35 36]]\n",
      "Sub-array:\n",
      "[[14 15 16]\n",
      " [20 21 22]\n",
      " [26 27 28]]\n"
     ]
    }
   ],
   "source": [
    "# Create a NumPy array of shape (6, 6) with values from 1 to 36\n",
    "array = np.arange(1, 37).reshape((6, 6))\n",
    "print(\"Original array:\")\n",
    "print(array)\n",
    "\n",
    "# Extract the sub-array\n",
    "sub_array = array[2:5, 1:4]\n",
    "print(\"Sub-array:\")\n",
    "print(sub_array)"
   ]
  },
  {
   "cell_type": "markdown",
   "id": "17600d28",
   "metadata": {},
   "source": [
    "2. Create a NumPy array of shape (5, 5) with random integers. Extract the elements on the border."
   ]
  },
  {
   "cell_type": "code",
   "execution_count": 12,
   "id": "6c321682",
   "metadata": {},
   "outputs": [
    {
     "name": "stdout",
     "output_type": "stream",
     "text": [
      "Original array:\n",
      "[[17 11  1 18  5]\n",
      " [ 3  6 10  4 13]\n",
      " [19  2  9 17  4]\n",
      " [ 2 17 11 14  7]\n",
      " [ 3  6 11  4 12]]\n",
      "Border elements:\n",
      "[17 11  1 18  5  3  6 11  4 12  3 19  2 13  4  7]\n"
     ]
    }
   ],
   "source": [
    "# Create a NumPy array of shape (5, 5) with random integers\n",
    "array = np.random.randint(1, 21, size=(5, 5))\n",
    "print(\"Original array:\")\n",
    "print(array)\n",
    "\n",
    "# Extract the elements on the border\n",
    "border_elements = np.concatenate((array[0, :], array[-1, :], array[1:-1, 0], array[1:-1, -1]))\n",
    "print(\"Border elements:\")\n",
    "print(border_elements)"
   ]
  },
  {
   "cell_type": "markdown",
   "id": "17094dbe",
   "metadata": {},
   "source": [
    "### Assignment 3: Array Operations\n",
    "\n",
    "1. Create two NumPy arrays of shape (3, 4) filled with random integers. Perform element-wise addition, subtraction, multiplication, and division."
   ]
  },
  {
   "cell_type": "code",
   "execution_count": 3,
   "id": "c9b4f986",
   "metadata": {},
   "outputs": [
    {
     "name": "stdout",
     "output_type": "stream",
     "text": [
      "Array 1:\n",
      "[[ 4  1  3  1]\n",
      " [ 2 10 10  7]\n",
      " [ 8  6  9  1]]\n",
      "Array 2:\n",
      "[[ 9  6  2  9]\n",
      " [ 9  3  2 10]\n",
      " [ 2 10 10  1]]\n",
      "Element-wise addition:\n",
      "[[13  7  5 10]\n",
      " [11 13 12 17]\n",
      " [10 16 19  2]]\n",
      "Element-wise subtraction:\n",
      "[[-5 -5  1 -8]\n",
      " [-7  7  8 -3]\n",
      " [ 6 -4 -1  0]]\n",
      "Element-wise multiplication:\n",
      "[[36  6  6  9]\n",
      " [18 30 20 70]\n",
      " [16 60 90  1]]\n",
      "Element-wise division:\n",
      "[[0.44444444 0.16666667 1.5        0.11111111]\n",
      " [0.22222222 3.33333333 5.         0.7       ]\n",
      " [4.         0.6        0.9        1.        ]]\n"
     ]
    }
   ],
   "source": [
    "# Create two NumPy arrays of shape (3, 4) filled with random integers\n",
    "array1 = np.random.randint(1, 11, size=(3, 4))\n",
    "array2 = np.random.randint(1, 11, size=(3, 4))\n",
    "print(\"Array 1:\")\n",
    "print(array1)\n",
    "print(\"Array 2:\")\n",
    "print(array2)\n",
    "\n",
    "# Perform element-wise operations\n",
    "addition = array1 + array2\n",
    "subtraction = array1 - array2\n",
    "multiplication = array1 * array2\n",
    "division = array1 / array2\n",
    "\n",
    "print(\"Element-wise addition:\")\n",
    "print(addition)\n",
    "print(\"Element-wise subtraction:\")\n",
    "print(subtraction)\n",
    "print(\"Element-wise multiplication:\")\n",
    "print(multiplication)\n",
    "print(\"Element-wise division:\")\n",
    "print(division)"
   ]
  },
  {
   "cell_type": "markdown",
   "id": "4b5a3218",
   "metadata": {},
   "source": [
    "2. Create a NumPy array of shape (4, 4) with values from 1 to 16. Compute the row-wise and column-wise sum."
   ]
  },
  {
   "cell_type": "code",
   "execution_count": 4,
   "id": "49abc0f0",
   "metadata": {},
   "outputs": [
    {
     "name": "stdout",
     "output_type": "stream",
     "text": [
      "Original array:\n",
      "[[ 1  2  3  4]\n",
      " [ 5  6  7  8]\n",
      " [ 9 10 11 12]\n",
      " [13 14 15 16]]\n",
      "Row-wise sum:\n",
      "[10 26 42 58]\n",
      "Column-wise sum:\n",
      "[28 32 36 40]\n"
     ]
    }
   ],
   "source": [
    "# Create a NumPy array of shape (4, 4) with values from 1 to 16\n",
    "array = np.arange(1, 17).reshape((4, 4))\n",
    "print(\"Original array:\")\n",
    "print(array)\n",
    "\n",
    "# Compute the row-wise and column-wise sum\n",
    "row_sum = np.sum(array, axis=1)\n",
    "column_sum = np.sum(array, axis=0)\n",
    "\n",
    "print(\"Row-wise sum:\")\n",
    "print(row_sum)\n",
    "print(\"Column-wise sum:\")\n",
    "print(column_sum)"
   ]
  },
  {
   "cell_type": "markdown",
   "id": "d023ba15",
   "metadata": {},
   "source": [
    "### Assignment 4: Statistical Operations\n",
    "\n",
    "1. Create a NumPy array of shape (5, 5) filled with random integers. Compute the mean, median, standard deviation, and variance of the array."
   ]
  },
  {
   "cell_type": "code",
   "execution_count": null,
   "id": "05b48c27",
   "metadata": {},
   "outputs": [],
   "source": [
    "# Create a NumPy array of shape (5, 5) filled with random integers\n",
    "array = np.random.randint(1, 21, size=(5, 5))\n",
    "print(\"Original array:\")\n",
    "print(array)\n",
    "\n",
    "# Compute the statistical values\n",
    "mean = np.mean(array)\n",
    "median = np.median(array)\n",
    "std_dev = np.std(array)\n",
    "variance = np.var(array)\n",
    "\n",
    "print(\"Mean:\", mean)\n",
    "print(\"Median:\", median)\n",
    "print(\"Standard Deviation:\", std_dev)\n",
    "print(\"Variance:\", variance)"
   ]
  },
  {
   "cell_type": "markdown",
   "id": "f40f6d99",
   "metadata": {},
   "source": [
    "2. Create a NumPy array of shape (3, 3) with values from 1 to 9. Normalize the array (i.e., scale the values to have a mean of 0 and a standard deviation of 1)."
   ]
  },
  {
   "cell_type": "code",
   "execution_count": null,
   "id": "b03e5d44",
   "metadata": {},
   "outputs": [],
   "source": [
    "# Create a NumPy array of shape (3, 3) with values from 1 to 9\n",
    "array = np.arange(1, 10).reshape((3, 3))\n",
    "print(\"Original array:\")\n",
    "print(array)\n",
    "\n",
    "# Normalize the array\n",
    "mean = np.mean(array)\n",
    "std_dev = np.std(array)\n",
    "normalized_array = (array - mean) / std_dev\n",
    "\n",
    "print(\"Normalized array:\")\n",
    "print(normalized_array)"
   ]
  },
  {
   "cell_type": "markdown",
   "id": "023cadf3",
   "metadata": {},
   "source": [
    "### Assignment 5: Broadcasting\n",
    "\n",
    "1. Create a NumPy array of shape (3, 3) filled with random integers. Add a 1D array of shape (3,) to each row of the 2D array using broadcasting."
   ]
  },
  {
   "cell_type": "code",
   "execution_count": null,
   "id": "a8a144fe",
   "metadata": {},
   "outputs": [],
   "source": [
    "# Create a NumPy array of shape (3, 3) filled with random integers\n",
    "array = np.random.randint(1, 11, size=(3, 3))\n",
    "row_array = np.random.randint(1, 11, size=(3,))\n",
    "print(\"Original array:\")\n",
    "print(array)\n",
    "print(\"1D array:\")\n",
    "print(row_array)\n",
    "\n",
    "# Add the 1D array to each row of the 2D array using broadcasting\n",
    "result = array + row_array\n",
    "print(\"Resulting array:\")\n",
    "print(result)"
   ]
  },
  {
   "cell_type": "markdown",
   "id": "f54e3a23",
   "metadata": {},
   "source": [
    "2. Create a NumPy array of shape (4, 4) filled with random integers. Subtract a 1D array of shape (4,) from each column of the 2D array using broadcasting."
   ]
  },
  {
   "cell_type": "code",
   "execution_count": null,
   "id": "d1368e19",
   "metadata": {},
   "outputs": [],
   "source": [
    "# Create a NumPy array of shape (4, 4) filled with random integers\n",
    "array = np.random.randint(1, 11, size=(4, 4))\n",
    "column_array = np.random.randint(1, 11, size=(4,))\n",
    "print(\"Original array:\")\n",
    "print(array)\n",
    "print(\"1D array:\")\n",
    "print(column_array)\n",
    "\n",
    "# Subtract the 1D array from each column of the 2D array using broadcasting\n",
    "result = array - column_array[:, np.newaxis]\n",
    "print(\"Resulting array:\")\n",
    "print(result)"
   ]
  },
  {
   "cell_type": "markdown",
   "id": "52d7d161",
   "metadata": {},
   "source": [
    "### Assignment 6: Linear Algebra\n",
    "\n",
    "1. Create a NumPy array of shape (3, 3) representing a matrix. Compute its determinant, inverse, and eigenvalues."
   ]
  },
  {
   "cell_type": "code",
   "execution_count": null,
   "id": "2f7b7c42",
   "metadata": {},
   "outputs": [],
   "source": [
    "# Create a NumPy array of shape (3, 3) representing a matrix\n",
    "matrix = np.random.randint(1, 11, size=(3, 3))\n",
    "print(\"Original matrix:\")\n",
    "print(matrix)\n",
    "\n",
    "# Compute the determinant\n",
    "determinant = np.linalg.det(matrix)\n",
    "print(\"Determinant:\", determinant)\n",
    "\n",
    "# Compute the inverse\n",
    "inverse = np.linalg.inv(matrix)\n",
    "print(\"Inverse:\")\n",
    "print(inverse)\n",
    "\n",
    "# Compute the eigenvalues\n",
    "eigenvalues = np.linalg.eigvals(matrix)\n",
    "print(\"Eigenvalues:\", eigenvalues)"
   ]
  },
  {
   "cell_type": "markdown",
   "id": "21e36f0a",
   "metadata": {},
   "source": [
    "2. Create two NumPy arrays of shape (2, 3) and (3, 2). Perform matrix multiplication on these arrays."
   ]
  },
  {
   "cell_type": "code",
   "execution_count": null,
   "id": "413ad5f4",
   "metadata": {},
   "outputs": [],
   "source": [
    "# Create two NumPy arrays of shape (2, 3) and (3, 2)\n",
    "array1 = np.random.randint(1, 11, size=(2, 3))\n",
    "array2 = np.random.randint(1, 11, size=(3, 2))\n",
    "print(\"Array 1:\")\n",
    "print(array1)\n",
    "print(\"Array 2:\")\n",
    "print(array2)\n",
    "\n",
    "# Perform matrix multiplication\n",
    "result = np.dot(array1, array2)\n",
    "print(\"Matrix multiplication result:\")\n",
    "print(result)"
   ]
  },
  {
   "cell_type": "markdown",
   "id": "2e641bfe",
   "metadata": {},
   "source": [
    "### Assignment 7: Advanced Array Manipulation\n",
    "\n",
    "1. Create a NumPy array of shape (3, 3) with values from 1 to 9. Reshape the array to shape (1, 9) and then to shape (9, 1)."
   ]
  },
  {
   "cell_type": "code",
   "execution_count": null,
   "id": "2bcca3eb",
   "metadata": {},
   "outputs": [],
   "source": [
    "# Create a NumPy array of shape (3, 3) with values from 1 to 9\n",
    "array = np.arange(1, 10).reshape((3, 3))\n",
    "print(\"Original array:\")\n",
    "print(array)\n",
    "\n",
    "# Reshape the array to shape (1, 9)\n",
    "reshaped_array_1 = array.reshape((1, 9))\n",
    "print(\"Reshaped array (1, 9):\")\n",
    "print(reshaped_array_1)\n",
    "\n",
    "# Reshape the array to shape (9, 1)\n",
    "reshaped_array_2 = reshaped_array_1.reshape((9, 1))\n",
    "print(\"Reshaped array (9, 1):\")\n",
    "print(reshaped_array_2)"
   ]
  },
  {
   "cell_type": "markdown",
   "id": "0aa9cd35",
   "metadata": {},
   "source": [
    "2. Create a NumPy array of shape (5, 5) filled with random integers. Flatten the array and then reshape it back to (5, 5)."
   ]
  },
  {
   "cell_type": "code",
   "execution_count": null,
   "id": "a4fe4c64",
   "metadata": {},
   "outputs": [],
   "source": [
    "# Create a NumPy array of shape (5, 5) filled with random integers\n",
    "array = np.random.randint(1, 21, size=(5, 5))\n",
    "print(\"Original array:\")\n",
    "print(array)\n",
    "\n",
    "# Flatten the array\n",
    "flattened_array = array.flatten()\n",
    "print(\"Flattened array:\")\n",
    "print(flattened_array)\n",
    "\n",
    "# Reshape the array back to (5, 5)\n",
    "reshaped_array = flattened_array.reshape((5, 5))\n",
    "print(\"Reshaped array:\")\n",
    "print(reshaped_array)"
   ]
  },
  {
   "cell_type": "markdown",
   "id": "6dfdc8b7",
   "metadata": {},
   "source": [
    "### Assignment 8: Fancy Indexing and Boolean Indexing\n",
    "\n",
    "1. Create a NumPy array of shape (5, 5) filled with random integers. Use fancy indexing to extract the elements at the corners of the array."
   ]
  },
  {
   "cell_type": "code",
   "execution_count": null,
   "id": "eb8d9715",
   "metadata": {},
   "outputs": [],
   "source": [
    "# Create a NumPy array of shape (5, 5) filled with random integers\n",
    "array = np.random.randint(1, 21, size=(5, 5))\n",
    "print(\"Original array:\")\n",
    "print(array)\n",
    "\n",
    "# Use fancy indexing to extract the elements at the corners of the array\n",
    "corners = array[[0, 0, -1, -1], [0, -1, 0, -1]]\n",
    "print(\"Corner elements:\")\n",
    "print(corners)"
   ]
  },
  {
   "cell_type": "markdown",
   "id": "2901d79b",
   "metadata": {},
   "source": [
    "2. Create a NumPy array of shape (4, 4) filled with random integers. Use boolean indexing to set all elements greater than 10 to 10."
   ]
  },
  {
   "cell_type": "code",
   "execution_count": null,
   "id": "53afa680",
   "metadata": {},
   "outputs": [],
   "source": [
    "# Create a NumPy array of shape (4, 4) filled with random integers\n",
    "array = np.random.randint(1, 21, size=(4, 4))\n",
    "print(\"Original array:\")\n",
    "print(array)\n",
    "\n",
    "# Use boolean indexing to set all elements greater than 10 to 10\n",
    "array[array > 10] = 10\n",
    "print(\"Modified array:\")\n",
    "print(array)"
   ]
  },
  {
   "cell_type": "markdown",
   "id": "b98e1776",
   "metadata": {},
   "source": [
    "### Assignment 9: Structured Arrays\n",
    "\n",
    "1. Create a structured array with fields 'name' (string), 'age' (integer), and 'weight' (float). Add some data and sort the array by age."
   ]
  },
  {
   "cell_type": "code",
   "execution_count": null,
   "id": "e1919b2e",
   "metadata": {},
   "outputs": [],
   "source": [
    "# Create a structured array with fields 'name', 'age', and 'weight'\n",
    "data_type = [('name', 'U10'), ('age', 'i4'), ('weight', 'f4')]\n",
    "data = np.array([('Alice', 25, 55.5), ('Bob', 30, 85.3), ('Charlie', 20, 65.2)], dtype=data_type)\n",
    "print(\"Original array:\")\n",
    "print(data)\n",
    "\n",
    "# Sort the array by age\n",
    "sorted_data = np.sort(data, order='age')\n",
    "print(\"Sorted array by age:\")\n",
    "print(sorted_data)"
   ]
  },
  {
   "cell_type": "markdown",
   "id": "699fcd08",
   "metadata": {},
   "source": [
    "2. Create a structured array with fields 'x' and 'y' (both integers). Add some data and compute the Euclidean distance between each pair of points."
   ]
  },
  {
   "cell_type": "code",
   "execution_count": null,
   "id": "378fb602",
   "metadata": {},
   "outputs": [],
   "source": [
    "# Create a structured array with fields 'x' and 'y'\n",
    "data_type = [('x', 'i4'), ('y', 'i4')]\n",
    "data = np.array([(1, 2), (3, 4), (5, 6)], dtype=data_type)\n",
    "print(\"Original array:\")\n",
    "print(data)\n",
    "\n",
    "# Compute the Euclidean distance between each pair of points\n",
    "distances = np.sqrt((data['x'][:, np.newaxis] - data['x'])**2 + (data['y'][:, np.newaxis] - data['y'])**2)\n",
    "print(\"Euclidean distances:\")\n",
    "print(distances)"
   ]
  },
  {
   "cell_type": "markdown",
   "id": "aeef23ec",
   "metadata": {},
   "source": [
    "### Assignment 10: Masked Arrays\n",
    "\n",
    "1. Create a masked array of shape (4, 4) with random integers and mask the elements greater than 10. Compute the sum of the unmasked elements."
   ]
  },
  {
   "cell_type": "code",
   "execution_count": null,
   "id": "71ca8afa",
   "metadata": {},
   "outputs": [],
   "source": [
    "import numpy.ma as ma\n",
    "\n",
    "# Create a masked array of shape (4, 4) with random integers\n",
    "array = np.random.randint(1, 21, size=(4, 4))\n",
    "masked_array = ma.masked_greater(array, 10)\n",
    "print(\"Original array:\")\n",
    "print(array)\n",
    "print(\"Masked array:\")\n",
    "print(masked_array)\n",
    "\n",
    "# Compute the sum of the unmasked elements\n",
    "sum_unmasked = masked_array.sum()\n",
    "print(\"Sum of unmasked elements:\", sum_unmasked)"
   ]
  },
  {
   "cell_type": "markdown",
   "id": "70d46dd4",
   "metadata": {},
   "source": [
    "2. Create a masked array of shape (3, 3) with random integers and mask the diagonal elements. Replace the masked elements with the mean of the unmasked elements."
   ]
  },
  {
   "cell_type": "code",
   "execution_count": null,
   "id": "1a2aa5f2",
   "metadata": {},
   "outputs": [],
   "source": [
    "# Create a masked array of shape (3, 3) with random integers\n",
    "array = np.random.randint(1, 21, size=(3, 3))\n",
    "masked_array = ma.masked_array(array, mask=np.eye(3, dtype=bool))\n",
    "print(\"Original array:\")\n",
    "print(array)\n",
    "print(\"Masked array:\")\n",
    "print(masked_array)\n",
    "\n",
    "# Replace the masked elements with the mean of the unmasked elements\n",
    "mean_unmasked = masked_array.mean()\n",
    "masked_array = masked_array.filled(mean_unmasked)\n",
    "print(\"Modified masked array:\")\n",
    "print(masked_array)"
   ]
  }
 ],
 "metadata": {
  "kernelspec": {
   "display_name": "Python 3 (ipykernel)",
   "language": "python",
   "name": "python3"
  },
  "language_info": {
   "codemirror_mode": {
    "name": "ipython",
    "version": 3
   },
   "file_extension": ".py",
   "mimetype": "text/x-python",
   "name": "python",
   "nbconvert_exporter": "python",
   "pygments_lexer": "ipython3",
   "version": "3.12.7"
  }
 },
 "nbformat": 4,
 "nbformat_minor": 5
}
