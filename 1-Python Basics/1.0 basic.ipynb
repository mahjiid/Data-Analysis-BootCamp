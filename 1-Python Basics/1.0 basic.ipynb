{
 "cells": [
  {
   "cell_type": "markdown",
   "metadata": {},
   "source": [
    "Syntax refers to the set of rules that defines the combination of symbols that are considered to be correctly structured programs in a language, in simpler term syntax is about correct arrangement of words and symbols in a code.\n",
    "\n",
    "Semantic refers to the meaning or the interpretation of the symbols, charaters and commands in a language. It is about what the code is supposed to do when it runs."
   ]
  },
  {
   "cell_type": "code",
   "execution_count": 1,
   "metadata": {},
   "outputs": [
    {
     "name": "stdout",
     "output_type": "stream",
     "text": [
      "Ola\n",
      "Majid\n"
     ]
    }
   ],
   "source": [
    "##Basic Syntax Rules In Python\n",
    "## Case Sensitivity- Python is case sensitive\n",
    "\n",
    "name=\"Ola\"\n",
    "Name=\"Majid\"\n",
    "\n",
    "print(name)\n",
    "print(Name)\n"
   ]
  }
 ],
 "metadata": {
  "kernelspec": {
   "display_name": "Python 3",
   "language": "python",
   "name": "python3"
  },
  "language_info": {
   "codemirror_mode": {
    "name": "ipython",
    "version": 3
   },
   "file_extension": ".py",
   "mimetype": "text/x-python",
   "name": "python",
   "nbconvert_exporter": "python",
   "pygments_lexer": "ipython3",
   "version": "3.12.0"
  }
 },
 "nbformat": 4,
 "nbformat_minor": 2
}
